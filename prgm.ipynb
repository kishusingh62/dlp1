{
  "nbformat": 4,
  "nbformat_minor": 0,
  "metadata": {
    "colab": {
      "provenance": []
    },
    "kernelspec": {
      "name": "python3",
      "display_name": "Python 3"
    },
    "language_info": {
      "name": "python"
    }
  },
  "cells": [
    {
      "cell_type": "code",
      "execution_count": 5,
      "metadata": {
        "colab": {
          "base_uri": "https://localhost:8080/"
        },
        "id": "xXRPA1hP8io9",
        "outputId": "fd2bc7d4-e874-4067-9f1c-11e9a99d85f4"
      },
      "outputs": [
        {
          "output_type": "stream",
          "name": "stdout",
          "text": [
            "AND(0, 1) = 0\n",
            "AND(1, 1) = 1\n",
            "AND(0, 0) = 0\n",
            "AND(1, 0) = 0\n",
            "NAND(0, 1) = 1\n",
            "NAND(1, 1) = 0\n",
            "NAND(0, 0) = 1\n",
            "NAND(1, 0) = 1\n",
            "OR(0, 1) = 1\n",
            "OR(1, 1) = 1\n",
            "OR(0, 0) = 0\n",
            "OR(1, 0) = 1\n",
            "NOR(0, 1) = 0\n",
            "NOR(1, 1) = 0\n",
            "NOR(0, 0) = 1\n",
            "NOR(1, 0) = 0\n"
          ]
        }
      ],
      "source": [
        "import numpy as np\n",
        "\n",
        "def unitStep(v):\n",
        "    if v >= 0:\n",
        "        return 1\n",
        "    else:\n",
        "        return 0\n",
        "\n",
        "def perceptronModel(x, w, b):\n",
        "    v = np.dot(w, x) + b\n",
        "    y = unitStep(v)\n",
        "    return y\n",
        "\n",
        "def NOT_logicFunction(x):\n",
        "    wNOT = -1\n",
        "    bNOT = 0.5\n",
        "    return perceptronModel(x, wNOT, bNOT)\n",
        "\n",
        "def AND_logicFunction(x):\n",
        "    w = np.array([1, 1])\n",
        "    bAND = -1.5\n",
        "    return perceptronModel(x, w, bAND)\n",
        "\n",
        "def OR_logicFunction(x):\n",
        "    w = np.array([1, 1])\n",
        "    bOR = -0.5\n",
        "    return perceptronModel(x, w, bOR)\n",
        "\n",
        "def NOR_logicFunction(x):\n",
        "    or_output = OR_logicFunction(x)\n",
        "    nor_output = NOT_logicFunction(or_output)\n",
        "    return nor_output\n",
        "\n",
        "def NAND_logicFunction(x):\n",
        "    yAND = AND_logicFunction(x)\n",
        "    yNAND = NOT_logicFunction(yAND)\n",
        "    return yNAND\n",
        "\n",
        "\n",
        "# Testing the NOR gate\n",
        "test1 = np.array([0, 1])\n",
        "test2 = np.array([1, 1])\n",
        "test3 = np.array([0, 0])\n",
        "test4 = np.array([1, 0])\n",
        "\n",
        "print(\"AND({}, {}) = {}\".format(0, 1, AND_logicFunction(test1)))\n",
        "print(\"AND({}, {}) = {}\".format(1, 1, AND_logicFunction(test2)))\n",
        "print(\"AND({}, {}) = {}\".format(0, 0, AND_logicFunction(test3)))\n",
        "print(\"AND({}, {}) = {}\".format(1, 0, AND_logicFunction(test4)))\n",
        "\n",
        "print(\"NAND({}, {}) = {}\".format(0, 1, NAND_logicFunction(test1)))\n",
        "print(\"NAND({}, {}) = {}\".format(1, 1, NAND_logicFunction(test2)))\n",
        "print(\"NAND({}, {}) = {}\".format(0, 0, NAND_logicFunction(test3)))\n",
        "print(\"NAND({}, {}) = {}\".format(1, 0, NAND_logicFunction(test4)))\n",
        "\n",
        "print(\"OR({}, {}) = {}\".format(0, 1, OR_logicFunction(test1)))\n",
        "print(\"OR({}, {}) = {}\".format(1, 1, OR_logicFunction(test2)))\n",
        "print(\"OR({}, {}) = {}\".format(0, 0, OR_logicFunction(test3)))\n",
        "print(\"OR({}, {}) = {}\".format(1, 0, OR_logicFunction(test4)))\n",
        "\n",
        "\n",
        "print(\"NOR({}, {}) = {}\".format(0, 1, NOR_logicFunction(test1)))\n",
        "print(\"NOR({}, {}) = {}\".format(1, 1, NOR_logicFunction(test2)))\n",
        "print(\"NOR({}, {}) = {}\".format(0, 0, NOR_logicFunction(test3)))\n",
        "print(\"NOR({}, {}) = {}\".format(1, 0, NOR_logicFunction(test4)))"
      ]
    }
  ]
}