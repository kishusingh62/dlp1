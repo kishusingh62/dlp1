{
  "nbformat": 4,
  "nbformat_minor": 0,
  "metadata": {
    "colab": {
      "provenance": []
    },
    "kernelspec": {
      "name": "python3",
      "display_name": "Python 3"
    },
    "language_info": {
      "name": "python"
    }
  },
  "cells": [
    {
      "cell_type": "code",
      "execution_count": 6,
      "metadata": {
        "colab": {
          "base_uri": "https://localhost:8080/"
        },
        "id": "pg53MwyfaDib",
        "outputId": "11357fce-e423-4952-ad32-c3d0997f43a4"
      },
      "outputs": [
        {
          "output_type": "stream",
          "name": "stdout",
          "text": [
            "XOR(0, 0) = 0\n",
            "XOR(0, 1) = 1\n",
            "XOR(1, 0) = 1\n",
            "XOR(1, 1) = 0\n"
          ]
        }
      ],
      "source": [
        "import numpy as np\n",
        "\n",
        "def unitStep(v):\n",
        "    if v >= 0:\n",
        "        return 1\n",
        "    else:\n",
        "        return 0\n",
        "\n",
        "def perceptronModel(x, w, b):\n",
        "    v = np.dot(w, x) + b\n",
        "    y = unitStep(v)\n",
        "    return y\n",
        "\n",
        "def logicFunction(x, w, b):\n",
        "    return perceptronModel(x, w, b)\n",
        "\n",
        "def train_perceptron(x, target, learning_rate, epochs):\n",
        "    w = np.zeros(len(x[0]))\n",
        "    b = 0\n",
        "    for epoch in range(epochs):\n",
        "        for i in range(len(x)):\n",
        "            output = perceptronModel(x[i], w, b)\n",
        "            error = target[i] - output\n",
        "            w = w + learning_rate * error * x[i]\n",
        "            b = b + learning_rate * error\n",
        "    return w, b\n",
        "\n",
        "def XOR_trainable(x_train, y_train, learning_rate=0.1, epochs=1000):\n",
        "\n",
        "    x_AND = x_train\n",
        "    y_AND = [1 if a == 1 and b == 1 else 0 for a, b in x_train]\n",
        "    w_AND, b_AND = train_perceptron(x_AND, y_AND, learning_rate, epochs)\n",
        "\n",
        "    x_OR = x_train\n",
        "    y_OR = [1 if a == 1 or b == 1 else 0 for a, b in x_train]\n",
        "    w_OR, b_OR = train_perceptron(x_OR, y_OR, learning_rate, epochs)\n",
        "\n",
        "    x_NOT = np.array([[0], [1]])\n",
        "    y_NOT = [1, 0]\n",
        "    w_NOT, b_NOT = train_perceptron(x_NOT, y_NOT, learning_rate, epochs)\n",
        "\n",
        "    def XOR_logicFunction(x):\n",
        "\n",
        "        y1 = logicFunction(x, w_AND, b_AND)\n",
        "        y2 = logicFunction(x, w_OR, b_OR)\n",
        "\n",
        "        y3 = logicFunction(np.array([y1]), w_NOT, b_NOT)\n",
        "\n",
        "        final_x = np.array([y2, y3])\n",
        "        finalOutput = logicFunction(final_x, w_AND, b_AND)\n",
        "        return finalOutput\n",
        "\n",
        "    return XOR_logicFunction\n",
        "\n",
        "x_train = np.array([[0, 0], [0, 1], [1, 0], [1, 1]])\n",
        "y_train = np.array([0, 1, 1, 0])\n",
        "\n",
        "XOR_function = XOR_trainable(x_train, y_train)\n",
        "\n",
        "for inputs in x_train:\n",
        "    print(f\"XOR({inputs[0]}, {inputs[1]}) = {XOR_function(inputs)}\")"
      ]
    },
    {
      "cell_type": "code",
      "source": [],
      "metadata": {
        "id": "VI7A11rmcNP_"
      },
      "execution_count": null,
      "outputs": []
    }
  ]
}